{
 "cells": [
  {
   "cell_type": "code",
   "execution_count": 1,
   "metadata": {},
   "outputs": [
    {
     "name": "stderr",
     "output_type": "stream",
     "text": [
      "Using TensorFlow backend.\n"
     ]
    }
   ],
   "source": [
    "from keras.layers import Dense\n",
    "from keras.models import Sequential, load_model\n",
    "import numpy as np"
   ]
  },
  {
   "cell_type": "markdown",
   "metadata": {},
   "source": [
    "Before training, dataset must be preprocessed.\n",
    "Our dataset consists of 28x28 images.\n",
    "We flatten each image to obtain 784 pixel values \n",
    "which are divided by 255 to bring them in a 0-1 range.\n",
    "The output y is one hot encoded."
   ]
  },
  {
   "cell_type": "code",
   "execution_count": 2,
   "metadata": {},
   "outputs": [],
   "source": [
    "# Preprocessing that will be explained in class\n",
    "def get_dataset():\n",
    "    x_train = np.load(\"x_train.npy\") / 255\n",
    "    y_train = np.load(\"y_train.npy\")\n",
    "    x_test = np.load(\"x_test.npy\") / 255\n",
    "    y_test = np.load(\"y_test.npy\")\n",
    "    print(x_train.shape, y_train.shape)\n",
    "    print(x_test.shape, y_test.shape)\n",
    "    # x_train\n",
    "    temp = np.empty((60000, 784))\n",
    "    for i in range(60000):\n",
    "        temp[i] = x_train[i].flatten()\n",
    "    x_train = temp\n",
    "    \n",
    "    # y_train\n",
    "    temp = np.zeros((60000, 10))\n",
    "    for i in range(60000):\n",
    "        temp[i][y_train[i]] = 1\n",
    "    y_train = temp\n",
    "    \n",
    "    # x_test\n",
    "    temp = np.empty((10000, 784))\n",
    "    for i in range(10000):\n",
    "        temp[i] = x_test[i].flatten()\n",
    "    x_test = temp\n",
    "    \n",
    "    # y_test\n",
    "    temp = np.zeros((10000, 10))\n",
    "    for i in range(10000):\n",
    "        temp[i][y_test[i]] = 1\n",
    "    y_test = temp\n",
    "    \n",
    "    print(x_train.shape, y_train.shape)\n",
    "    print(x_test.shape, y_test.shape)\n",
    "    \n",
    "    return x_train, y_train, x_test, y_test"
   ]
  },
  {
   "cell_type": "code",
   "execution_count": 3,
   "metadata": {
    "scrolled": true
   },
   "outputs": [
    {
     "name": "stdout",
     "output_type": "stream",
     "text": [
      "(60000, 28, 28) (60000,)\n",
      "(10000, 28, 28) (10000,)\n",
      "(60000, 784) (60000, 10)\n",
      "(10000, 784) (10000, 10)\n"
     ]
    }
   ],
   "source": [
    "x_train, y_train, x_test, y_test = get_dataset()"
   ]
  },
  {
   "cell_type": "code",
   "execution_count": 8,
   "metadata": {
    "scrolled": true
   },
   "outputs": [
    {
     "name": "stdout",
     "output_type": "stream",
     "text": [
      "_________________________________________________________________\n",
      "Layer (type)                 Output Shape              Param #   \n",
      "=================================================================\n",
      "dense_5 (Dense)              (None, 1024)              803840    \n",
      "_________________________________________________________________\n",
      "dense_6 (Dense)              (None, 256)               262400    \n",
      "_________________________________________________________________\n",
      "dense_7 (Dense)              (None, 64)                16448     \n",
      "_________________________________________________________________\n",
      "dense_8 (Dense)              (None, 10)                650       \n",
      "=================================================================\n",
      "Total params: 1,083,338\n",
      "Trainable params: 1,083,338\n",
      "Non-trainable params: 0\n",
      "_________________________________________________________________\n"
     ]
    }
   ],
   "source": [
    "model = Sequential()\n",
    "model.add(Dense(1024, input_shape=(784, )))\n",
    "model.add(Dense(256, activation='relu'))\n",
    "model.add(Dense(64, activation='relu'))\n",
    "# Output of the model should always be 10 because 10 digits\n",
    "model.add(Dense(10))\n",
    "model.compile(\n",
    "        optimizer='rmsprop', \n",
    "        loss='mean_squared_error', \n",
    "        metrics=['acc'])\n",
    "\n",
    "# This lines loads a saved model. \n",
    "# If you change anything related to the network. \n",
    "# Please Comment this line out because it will load a previously saved model.\n",
    "# You can tell from the model.summary() output\n",
    "\n",
    "# model = load_model(\"model.h5\")\n",
    "model.summary()"
   ]
  },
  {
   "cell_type": "code",
   "execution_count": 10,
   "metadata": {},
   "outputs": [
    {
     "name": "stdout",
     "output_type": "stream",
     "text": [
      "Train on 60000 samples, validate on 10000 samples\n",
      "Epoch 1/5\n",
      "60000/60000 [==============================] - 1s 16us/step - loss: 0.0145 - acc: 0.9506 - val_loss: 0.0148 - val_acc: 0.9580\n",
      "Epoch 2/5\n",
      "60000/60000 [==============================] - 1s 16us/step - loss: 0.0100 - acc: 0.9692 - val_loss: 0.0096 - val_acc: 0.9688\n",
      "Epoch 3/5\n",
      "60000/60000 [==============================] - 1s 15us/step - loss: 0.0080 - acc: 0.9765 - val_loss: 0.0087 - val_acc: 0.9721\n",
      "Epoch 4/5\n",
      "60000/60000 [==============================] - 1s 15us/step - loss: 0.0067 - acc: 0.9815 - val_loss: 0.0075 - val_acc: 0.9739\n",
      "Epoch 5/5\n",
      "60000/60000 [==============================] - 1s 15us/step - loss: 0.0058 - acc: 0.9840 - val_loss: 0.0072 - val_acc: 0.9750\n"
     ]
    },
    {
     "data": {
      "text/plain": [
       "<keras.callbacks.History at 0x7f38eb96b7b8>"
      ]
     },
     "execution_count": 10,
     "metadata": {},
     "output_type": "execute_result"
    }
   ],
   "source": [
    "# Change the number of epochs and batch size. Higher the batch size, more RAM will be used.\n",
    "model.fit(x_train, y_train, epochs=5, batch_size = 256, validation_data=(x_test, y_test), verbose=1, shuffle=True)"
   ]
  },
  {
   "cell_type": "code",
   "execution_count": 11,
   "metadata": {},
   "outputs": [],
   "source": [
    "# If you change the model architecture, consider changing the save name\n",
    "# To keep both the old model as well as the new model to compare results\n",
    "model.save(\"model.h5\")"
   ]
  }
 ],
 "metadata": {
  "kernelspec": {
   "display_name": "Python 3",
   "language": "python",
   "name": "python3"
  },
  "language_info": {
   "codemirror_mode": {
    "name": "ipython",
    "version": 3
   },
   "file_extension": ".py",
   "mimetype": "text/x-python",
   "name": "python",
   "nbconvert_exporter": "python",
   "pygments_lexer": "ipython3",
   "version": "3.5.2"
  }
 },
 "nbformat": 4,
 "nbformat_minor": 2
}
