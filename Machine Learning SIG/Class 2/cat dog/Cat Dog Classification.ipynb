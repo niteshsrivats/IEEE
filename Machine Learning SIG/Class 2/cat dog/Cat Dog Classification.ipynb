{
 "cells": [
  {
   "cell_type": "code",
   "execution_count": 1,
   "metadata": {},
   "outputs": [
    {
     "name": "stderr",
     "output_type": "stream",
     "text": [
      "Using TensorFlow backend.\n"
     ]
    }
   ],
   "source": [
    "from keras.layers import Dense\n",
    "from keras.models import Sequential, load_model\n",
    "import numpy as np"
   ]
  },
  {
   "cell_type": "markdown",
   "metadata": {},
   "source": [
    "Our dataset consists of 50x50x3 images which are flattened to give 7500 pixel values.\n",
    "We divide our dataset by 255 to bring them in a 0-1 range.\n",
    "The labels are binary."
   ]
  },
  {
   "cell_type": "code",
   "execution_count": 2,
   "metadata": {},
   "outputs": [],
   "source": [
    "# Preprocessing that will be explained in class\n",
    "def get_dataset():\n",
    "    x_train = np.load(\"x_train.npy\") / 255\n",
    "    y_train = np.load(\"y_train.npy\")\n",
    "    x_test = np.load(\"x_test.npy\") / 255\n",
    "    y_test = np.load(\"y_test.npy\")\n",
    "    print(x_train.shape, y_train.shape)\n",
    "    print(x_test.shape, y_test.shape)\n",
    "    return x_train, y_train, x_test, y_test"
   ]
  },
  {
   "cell_type": "code",
   "execution_count": 3,
   "metadata": {
    "scrolled": true
   },
   "outputs": [
    {
     "name": "stdout",
     "output_type": "stream",
     "text": [
      "(8000, 7500) (8000,)\n",
      "(2000, 7500) (2000,)\n"
     ]
    }
   ],
   "source": [
    "x_train, y_train, x_test, y_test = get_dataset()"
   ]
  },
  {
   "cell_type": "code",
   "execution_count": 4,
   "metadata": {
    "scrolled": false
   },
   "outputs": [
    {
     "name": "stdout",
     "output_type": "stream",
     "text": [
      "_________________________________________________________________\n",
      "Layer (type)                 Output Shape              Param #   \n",
      "=================================================================\n",
      "dense_1 (Dense)              (None, 4096)              30724096  \n",
      "_________________________________________________________________\n",
      "dense_2 (Dense)              (None, 1024)              4195328   \n",
      "_________________________________________________________________\n",
      "dense_3 (Dense)              (None, 256)               262400    \n",
      "_________________________________________________________________\n",
      "dense_4 (Dense)              (None, 64)                16448     \n",
      "_________________________________________________________________\n",
      "dense_5 (Dense)              (None, 1)                 65        \n",
      "=================================================================\n",
      "Total params: 35,198,337\n",
      "Trainable params: 35,198,337\n",
      "Non-trainable params: 0\n",
      "_________________________________________________________________\n"
     ]
    }
   ],
   "source": [
    "model = Sequential()\n",
    "model.add(Dense(4096, input_shape=(7500, )))\n",
    "model.add(Dense(1024, activation='relu'))\n",
    "model.add(Dense(256, activation='relu'))\n",
    "model.add(Dense(64, activation='relu'))\n",
    "# Output of the model should always be 1 because 0 output means cat and 1 output means dog\n",
    "model.add(Dense(1, activation='sigmoid'))\n",
    "model.compile(\n",
    "        optimizer='rmsprop', \n",
    "        loss='mean_squared_error', \n",
    "        metrics=['acc'])\n",
    "\n",
    "# This lines loads a saved model. \n",
    "# If you change anything related to the network. \n",
    "# Please Comment this line out because it will load a previously saved model.\n",
    "# You can tell from the model.summary() output\n",
    "\n",
    "# model = load_model(\"model.h5\")\n",
    "model.summary()"
   ]
  },
  {
   "cell_type": "code",
   "execution_count": null,
   "metadata": {},
   "outputs": [
    {
     "name": "stdout",
     "output_type": "stream",
     "text": [
      "Train on 8000 samples, validate on 2000 samples\n",
      "Epoch 1/2\n",
      "7352/8000 [==========================>...] - ETA: 2s - loss: 0.4989 - acc: 0.5007"
     ]
    }
   ],
   "source": [
    "# Change the number of epochs and batch size. Higher the batch size, more RAM will be used.\n",
    "model.fit(x_train, y_train, epochs=2, batch_size = 8, validation_data=(x_test, y_test), verbose=1, shuffle=True)"
   ]
  },
  {
   "cell_type": "markdown",
   "metadata": {},
   "source": [
    "As we can see, even for a network with 35M+ parameters. It struggles to learn."
   ]
  },
  {
   "cell_type": "code",
   "execution_count": 17,
   "metadata": {},
   "outputs": [],
   "source": [
    "# If you change the model architecture, consider changing the save name\n",
    "# To keep both the old model as well as the new model to compare results\n",
    "model.save(\"model.h5\")"
   ]
  }
 ],
 "metadata": {
  "kernelspec": {
   "display_name": "Python 3",
   "language": "python",
   "name": "python3"
  },
  "language_info": {
   "codemirror_mode": {
    "name": "ipython",
    "version": 3
   },
   "file_extension": ".py",
   "mimetype": "text/x-python",
   "name": "python",
   "nbconvert_exporter": "python",
   "pygments_lexer": "ipython3",
   "version": "3.5.2"
  }
 },
 "nbformat": 4,
 "nbformat_minor": 2
}
